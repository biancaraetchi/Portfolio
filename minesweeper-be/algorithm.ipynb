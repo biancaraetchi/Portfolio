{
 "cells": [
  {
   "cell_type": "code",
   "execution_count": 5,
   "metadata": {},
   "outputs": [],
   "source": [
    "import numpy as np"
   ]
  },
  {
   "cell_type": "code",
   "execution_count": 2,
   "metadata": {},
   "outputs": [],
   "source": [
    "#initialize values\n",
    "\n",
    "dims = 5\n",
    "bombs = 2"
   ]
  },
  {
   "cell_type": "code",
   "execution_count": 3,
   "metadata": {},
   "outputs": [],
   "source": [
    "class Bomb:\n",
    "  def __init__(self) -> None:\n",
    "    self.pos_x = None\n",
    "    self.pos_y = None"
   ]
  },
  {
   "cell_type": "code",
   "execution_count": 4,
   "metadata": {},
   "outputs": [
    {
     "name": "stdout",
     "output_type": "stream",
     "text": [
      "[[0. 0. 0. 1. 0.]\n",
      " [0. 0. 0. 0. 0.]\n",
      " [0. 0. 0. 0. 0.]\n",
      " [0. 0. 0. 0. 1.]\n",
      " [0. 0. 0. 0. 0.]]\n"
     ]
    }
   ],
   "source": [
    "# create return array\n",
    "\n",
    "def pick_bomb_tile(array, dims) -> Bomb:\n",
    "  bomb = Bomb()\n",
    "  pos_x = np.random.randint(low=0, high=dims)\n",
    "  pos_y = np.random.randint(low=0, high=dims)\n",
    "  if(array[pos_x, pos_y] == 1):\n",
    "    bomb = pick_bomb_tile(array, dims)\n",
    "  else:\n",
    "    array[pos_x, pos_y] = 1\n",
    "    bomb.pos_x = pos_x\n",
    "    bomb.pos_y = pos_y\n",
    "  return bomb\n",
    "\n",
    "\n",
    "def create_return(dims, bombs) -> tuple[list[Bomb], list[list[int]]]:\n",
    "  array = np.zeros((dims, dims))\n",
    "  list_bombs:list[Bomb] = []\n",
    "  for i in range(bombs):\n",
    "    list_bombs.append(pick_bomb_tile(array, dims))\n",
    "  return list_bombs, array\n",
    "\n",
    "result = create_return(dims, bombs)\n",
    "\n",
    "print(result[1])\n"
   ]
  }
 ],
 "metadata": {
  "kernelspec": {
   "display_name": "Python 3",
   "language": "python",
   "name": "python3"
  },
  "language_info": {
   "codemirror_mode": {
    "name": "ipython",
    "version": 3
   },
   "file_extension": ".py",
   "mimetype": "text/x-python",
   "name": "python",
   "nbconvert_exporter": "python",
   "pygments_lexer": "ipython3",
   "version": "3.12.2"
  }
 },
 "nbformat": 4,
 "nbformat_minor": 2
}
